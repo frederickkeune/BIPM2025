{
  "cells": [
    {
      "cell_type": "markdown",
      "metadata": {
        "id": "view-in-github",
        "colab_type": "text"
      },
      "source": [
        "<a href=\"https://colab.research.google.com/github/frederickkeune/BIPM2025/blob/main/Kopie_von_myJourney.ipynb\" target=\"_parent\"><img src=\"https://colab.research.google.com/assets/colab-badge.svg\" alt=\"Open In Colab\"/></a>"
      ]
    },
    {
      "cell_type": "markdown",
      "id": "089da687",
      "metadata": {
        "id": "089da687"
      },
      "source": []
    },
    {
      "cell_type": "markdown",
      "id": "c03bab89",
      "metadata": {
        "id": "c03bab89"
      },
      "source": [
        "Generate inmteractive map and save as standalone html page.\n",
        "\n",
        "(Try different tile servers)"
      ]
    },
    {
      "cell_type": "code",
      "source": [
        "!pip install folium"
      ],
      "metadata": {
        "id": "9LKxtJj00btH",
        "outputId": "3b143028-d55c-46eb-dda6-48520ac2829e",
        "colab": {
          "base_uri": "https://localhost:8080/"
        }
      },
      "id": "9LKxtJj00btH",
      "execution_count": null,
      "outputs": [
        {
          "output_type": "stream",
          "name": "stdout",
          "text": [
            "Requirement already satisfied: folium in /usr/local/lib/python3.12/dist-packages (0.20.0)\n",
            "Requirement already satisfied: branca>=0.6.0 in /usr/local/lib/python3.12/dist-packages (from folium) (0.8.2)\n",
            "Requirement already satisfied: jinja2>=2.9 in /usr/local/lib/python3.12/dist-packages (from folium) (3.1.6)\n",
            "Requirement already satisfied: numpy in /usr/local/lib/python3.12/dist-packages (from folium) (2.0.2)\n",
            "Requirement already satisfied: requests in /usr/local/lib/python3.12/dist-packages (from folium) (2.32.4)\n",
            "Requirement already satisfied: xyzservices in /usr/local/lib/python3.12/dist-packages (from folium) (2025.4.0)\n",
            "Requirement already satisfied: MarkupSafe>=2.0 in /usr/local/lib/python3.12/dist-packages (from jinja2>=2.9->folium) (3.0.3)\n",
            "Requirement already satisfied: charset_normalizer<4,>=2 in /usr/local/lib/python3.12/dist-packages (from requests->folium) (3.4.3)\n",
            "Requirement already satisfied: idna<4,>=2.5 in /usr/local/lib/python3.12/dist-packages (from requests->folium) (3.10)\n",
            "Requirement already satisfied: urllib3<3,>=1.21.1 in /usr/local/lib/python3.12/dist-packages (from requests->folium) (2.5.0)\n",
            "Requirement already satisfied: certifi>=2017.4.17 in /usr/local/lib/python3.12/dist-packages (from requests->folium) (2025.10.5)\n"
          ]
        }
      ]
    },
    {
      "cell_type": "code",
      "execution_count": 14,
      "id": "945f0642",
      "metadata": {
        "id": "945f0642",
        "outputId": "d6b086e1-b41f-40c0-a6c4-656fed4d076c",
        "colab": {
          "base_uri": "https://localhost:8080/"
        }
      },
      "outputs": [
        {
          "output_type": "execute_result",
          "data": {
            "text/plain": [
              "False"
            ]
          },
          "metadata": {},
          "execution_count": 14
        }
      ],
      "source": [
        "import folium\n",
        "from pyproj import Geod\n",
        "\n",
        "geod = Geod(ellps=\"WGS84\")\n",
        "\n",
        "# Define stops\n",
        "stops = [\n",
        "    {\"city\": \"Berlin, Germany\", \"lat\": 52.52437, \"lon\": 13.41053, \"popup\": \"Birth (1999) 👶\"},\n",
        "    {\"city\": \"Berlin, Germany\", \"lat\": 52.52437, \"lon\": 13.41053, \"popup\": \"German and French Highschool degree (2009-2017)🎓 \"},\n",
        "    {\"city\": \"Heidelberg, Germany\", \"lat\": 49.40768, \"lon\": 8.69079, \"popup\": \"B.Sc. Digital Business Management (2020-2025) 🎓\"},\n",
        "    {\"city\": \"Jersey City, NJ\", \"lat\": 40.71907, \"lon\": -74.05055, \"popup\": \"Semester abroad (2023) 🎓\"},\n",
        "    {\"city\": \"Berlin, Germany\", \"lat\": 52.5200, \"lon\": 13.4050, \"popup\": \"M.Sc. BIPM (2025-Now) 🎓\"}\n",
        "]\n",
        "\n",
        "# Create map\n",
        "m = folium.Map(\n",
        "    location=[40, 0],\n",
        "    zoom_start=2.3,\n",
        "    tiles=\"https://{s}.basemaps.cartocdn.com/light_all/{z}/{x}/{y}{r}.png\",\n",
        "    attr=\"© OpenStreetMap contributors © CARTO\"\n",
        ")\n",
        "\n",
        "# Add markers\n",
        "for stop in stops:\n",
        "    folium.Marker(\n",
        "        [stop[\"lat\"], stop[\"lon\"]],\n",
        "        popup=stop[\"popup\"],\n",
        "        tooltip=stop[\"city\"],\n",
        "        icon=folium.Icon(color=\"blue\", icon=\"info-sign\")\n",
        "    ).add_to(m)\n",
        "\n",
        "# Function to compute many intermediate great-circle points\n",
        "def great_circle_points(lat1, lon1, lat2, lon2, npts=100):\n",
        "    points = geod.npts(lon1, lat1, lon2, lat2, npts)\n",
        "    coords = [(lat1, lon1)] + [(lat, lon) for lon, lat in points] + [(lat2, lon2)]\n",
        "    return coords\n",
        "\n",
        "# Draw arcs between consecutive stops\n",
        "for i in range(len(stops) - 1):\n",
        "    start, end = stops[i], stops[i + 1]\n",
        "    arc = great_circle_points(start[\"lat\"], start[\"lon\"], end[\"lat\"], end[\"lon\"], npts=60)\n",
        "    folium.PolyLine(\n",
        "        arc,\n",
        "        color=\"darkblue\",\n",
        "        weight=3,\n",
        "        opacity=0.7\n",
        "    ).add_to(m)\n",
        "\n",
        "# Save and open\n",
        "m.save(\"academic_journey_map.html\")\n",
        "import webbrowser; webbrowser.open(\"academic_journey_map.html\")\n"
      ]
    },
    {
      "cell_type": "markdown",
      "source": [
        "Saving on Google Drive"
      ],
      "metadata": {
        "id": "wvfkwIul3naL"
      },
      "id": "wvfkwIul3naL"
    },
    {
      "cell_type": "code",
      "source": [
        "from google.colab import drive\n",
        "drive.mount('/content/drive')\n",
        "\n",
        "#This is my path:\n",
        "#save_path = '/content/drive/MyDrive/Teaching/WS2025/academic_journey_map.html'\n",
        "save_path = '/content/drive/MyDrive/academic_journey_map.html'\n"
      ],
      "metadata": {
        "colab": {
          "base_uri": "https://localhost:8080/"
        },
        "id": "TKVJ784u3qYk",
        "outputId": "4a886e91-0320-41a3-b54d-3d9b046f4ac0"
      },
      "id": "TKVJ784u3qYk",
      "execution_count": 16,
      "outputs": [
        {
          "output_type": "stream",
          "name": "stdout",
          "text": [
            "Drive already mounted at /content/drive; to attempt to forcibly remount, call drive.mount(\"/content/drive\", force_remount=True).\n"
          ]
        }
      ]
    },
    {
      "cell_type": "code",
      "source": [
        "m.save(save_path)"
      ],
      "metadata": {
        "id": "76Cu_RH-7Xuc"
      },
      "id": "76Cu_RH-7Xuc",
      "execution_count": null,
      "outputs": []
    }
  ],
  "metadata": {
    "kernelspec": {
      "display_name": "venv312",
      "language": "python",
      "name": "python3"
    },
    "language_info": {
      "codemirror_mode": {
        "name": "ipython",
        "version": 3
      },
      "file_extension": ".py",
      "mimetype": "text/x-python",
      "name": "python",
      "nbconvert_exporter": "python",
      "pygments_lexer": "ipython3",
      "version": "3.12.0"
    },
    "colab": {
      "provenance": [],
      "include_colab_link": true
    }
  },
  "nbformat": 4,
  "nbformat_minor": 5
}